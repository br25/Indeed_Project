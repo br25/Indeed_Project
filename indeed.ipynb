{
  "nbformat": 4,
  "nbformat_minor": 0,
  "metadata": {
    "colab": {
      "name": "indeed.ipynb",
      "provenance": [],
      "collapsed_sections": []
    },
    "kernelspec": {
      "name": "python3",
      "display_name": "Python 3"
    },
    "language_info": {
      "name": "python"
    }
  },
  "cells": [
    {
      "cell_type": "markdown",
      "metadata": {
        "id": "iuNzoGJdSiI6"
      },
      "source": [
        "**Indeed job Scraper**"
      ]
    },
    {
      "cell_type": "code",
      "metadata": {
        "id": "IsrjOlWqStFd"
      },
      "source": [
        "import requests\n",
        "from bs4 import BeautifulSoup\n",
        "import csv\n",
        "from datetime import datetime"
      ],
      "execution_count": 202,
      "outputs": []
    },
    {
      "cell_type": "markdown",
      "metadata": {
        "id": "prkIkP2qUlVQ"
      },
      "source": [
        "**Setup the query and url**"
      ]
    },
    {
      "cell_type": "code",
      "metadata": {
        "id": "He0j3WFuWFGB"
      },
      "source": [
        "def get_url(position, location):\n",
        "  url_template = \"https://www.indeed.com/jobs?q={}&l={}\"\n",
        "  position = position.replace(\" \", \"+\")\n",
        "  location = location.replace(\" \", \"+\")\n",
        "  url = url_template.format(position, location)\n",
        "  return url"
      ],
      "execution_count": 203,
      "outputs": []
    },
    {
      "cell_type": "code",
      "metadata": {
        "id": "H4nANrk9ZXFa"
      },
      "source": [
        "url_result = get_url(\"computer operator\", \"Houston, TX\")\n",
        "print(url_result)"
      ],
      "execution_count": null,
      "outputs": []
    },
    {
      "cell_type": "markdown",
      "metadata": {
        "id": "WEpcPLTDbovp"
      },
      "source": [
        "*Extract the html data*"
      ]
    },
    {
      "cell_type": "code",
      "metadata": {
        "id": "G9QtCCNGbtJF"
      },
      "source": [
        "response = requests.get(url_result)\n",
        "soup = BeautifulSoup(response.text, \"lxml\")\n",
        "jobs = soup.find_all(\"div\", \"job_seen_beacon\")\n",
        "print(jobs)"
      ],
      "execution_count": null,
      "outputs": []
    },
    {
      "cell_type": "markdown",
      "metadata": {
        "id": "ZvJJcyB6mr6o"
      },
      "source": [
        "*Prototype the model with single record*"
      ]
    },
    {
      "cell_type": "code",
      "metadata": {
        "id": "4xupYZXpm4Nr"
      },
      "source": [
        "job = jobs[2]\n",
        "print(job.text)"
      ],
      "execution_count": null,
      "outputs": []
    },
    {
      "cell_type": "code",
      "metadata": {
        "id": "gWqqs1IcSU5C"
      },
      "source": [
        "job_title = job.find('h2', class_=\"jobTitle\").text\n",
        "print(job_title)"
      ],
      "execution_count": null,
      "outputs": []
    },
    {
      "cell_type": "code",
      "metadata": {
        "id": "k4IaOYLPYnTv"
      },
      "source": [
        "company = job.find(\"span\" , class_=\"companyName\").text.strip()\n",
        "print(company)"
      ],
      "execution_count": null,
      "outputs": []
    },
    {
      "cell_type": "code",
      "metadata": {
        "id": "2qZjbdCxZvtY"
      },
      "source": [
        "job_location = job.find(\"div\", class_=\"companyLocation\").text.strip()\n",
        "print(job_location)"
      ],
      "execution_count": null,
      "outputs": []
    },
    {
      "cell_type": "code",
      "metadata": {
        "id": "MHO5OMq5aHN1"
      },
      "source": [
        "rating = job.find(\"span\", class_=\"ratingNumber\").text\n",
        "print(rating)"
      ],
      "execution_count": null,
      "outputs": []
    },
    {
      "cell_type": "code",
      "metadata": {
        "id": "_e42cGp7ahM1"
      },
      "source": [
        "post_date = job.find('span', 'date').text\n",
        "today = datetime.today().strftime('%d-%m-%Y')\n",
        "print(f'{post_date} And Today is {today}')"
      ],
      "execution_count": null,
      "outputs": []
    },
    {
      "cell_type": "code",
      "metadata": {
        "id": "RWbCB5F3a9dt"
      },
      "source": [
        "summary = job.find('div', class_='job-snippet').text.strip().replace('\\n', ' ')\n",
        "print(summary)"
      ],
      "execution_count": null,
      "outputs": []
    },
    {
      "cell_type": "code",
      "metadata": {
        "id": "RqABNscicgm3"
      },
      "source": [
        "# this does not exists for all jobs, so handle the exceptions\n",
        "salary_tag = job.find('div', class_='attribute_snippet').text\n",
        "if salary:\n",
        "  salary = salary_tag.text.strip()\n",
        "else:\n",
        "   salary = ''\n",
        "\n",
        "print(salary_tag)"
      ],
      "execution_count": null,
      "outputs": []
    },
    {
      "cell_type": "markdown",
      "metadata": {
        "id": "wk9vnoUenJXX"
      },
      "source": [
        "*Find a job Details*"
      ]
    },
    {
      "cell_type": "code",
      "metadata": {
        "id": "0oraZT4KkUtO"
      },
      "source": [
        "record = (job_title, company, job_location, rating, post_date, summary, salary_tag)\n",
        "print(record)"
      ],
      "execution_count": null,
      "outputs": []
    },
    {
      "cell_type": "markdown",
      "metadata": {
        "id": "yzwpOpJrn2-n"
      },
      "source": [
        "*capsulated with function*"
      ]
    },
    {
      "cell_type": "code",
      "metadata": {
        "id": "mt7yfHsRn89t"
      },
      "source": [
        "def get_record(job):\n",
        "  \"\"\"Extract job data from a single record\"\"\"\n",
        "  job_title = job.find('h2', class_=\"jobTitle\").text\n",
        "  company = job.find(\"span\" , class_=\"companyName\").text.strip()\n",
        "  job_location = job.find(\"div\", class_=\"companyLocation\").text.strip()\n",
        "  rating = job.find(\"span\", class_=\"ratingNumber\").text\n",
        "  post_date = job.find('span', 'date').text\n",
        "  today = datetime.today().strftime('%d-%m-%Y')\n",
        "  summary = job.find('div', class_='job-snippet').text.strip().replace('\\n', ' ')\n",
        "\n",
        "  # this does not exists for all jobs, so handle the exceptions\n",
        "  \n",
        "  salary_tag = job.find('div', class_='attribute_snippet').text\n",
        "  \n",
        "  if salary == true:\n",
        "    salary = salary_tag.strip()\n",
        "  else:\n",
        "    salary = ''\n",
        "\n",
        "  record = (job_title, company, job_location, rating, post_date, today, summary, salary_tag)\n",
        "  return record\n",
        "\n",
        "\n",
        "print(record)\n"
      ],
      "execution_count": null,
      "outputs": []
    },
    {
      "cell_type": "code",
      "metadata": {
        "id": "8KT3GEjY28Mz"
      },
      "source": [
        "csv_file = open('excel.csv', 'w')\n",
        "\n",
        "csv_writer = csv.writer(csv_file)\n",
        "csv_writer.writerow(['job_title', 'company', 'job_location', 'rating', 'post_date', 'summary', 'salary'])\n",
        "csv_writer.writerow([job_title, company, job_location, rating, post_date, summary, salary])\n",
        "\n",
        "csv_file.close()\n",
        "  "
      ],
      "execution_count": 269,
      "outputs": []
    }
  ]
}